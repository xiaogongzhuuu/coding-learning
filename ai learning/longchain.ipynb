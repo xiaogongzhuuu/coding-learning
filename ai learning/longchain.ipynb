{
 "cells": [
  {
   "cell_type": "markdown",
   "id": "c9285b25",
   "metadata": {},
   "source": [
    "api_key=\"sk-HGL4d86c43a35160e401c9220683f5337679672ba1bc2Qh3\",\n",
    "    base_url=\"https://api.gptsapi.net/v1\" "
   ]
  },
  {
   "cell_type": "code",
   "execution_count": 1,
   "id": "4b478821",
   "metadata": {},
   "outputs": [
    {
     "ename": "ValidationError",
     "evalue": "1 validation error for ChatOpenAI\n__root__\n  Did not find openai_api_key, please add an environment variable `OPENAI_API_KEY` which contains it, or pass  `openai_api_key` as a named parameter. (type=value_error)",
     "output_type": "error",
     "traceback": [
      "\u001b[31m---------------------------------------------------------------------------\u001b[39m",
      "\u001b[31mValidationError\u001b[39m                           Traceback (most recent call last)",
      "\u001b[36mCell\u001b[39m\u001b[36m \u001b[39m\u001b[32mIn[1]\u001b[39m\u001b[32m, line 13\u001b[39m\n\u001b[32m     10\u001b[39m api_key = os.getenv(\u001b[33m\"\u001b[39m\u001b[33mOPENAI_API_KEY\u001b[39m\u001b[33m\"\u001b[39m)\n\u001b[32m     11\u001b[39m base_url = os.getenv(\u001b[33m\"\u001b[39m\u001b[33mOPENAI_API_BASE\u001b[39m\u001b[33m\"\u001b[39m)\n\u001b[32m---> \u001b[39m\u001b[32m13\u001b[39m llm = \u001b[43mChatOpenAI\u001b[49m\u001b[43m(\u001b[49m\n\u001b[32m     14\u001b[39m \u001b[43m    \u001b[49m\u001b[43mmodel_name\u001b[49m\u001b[43m=\u001b[49m\u001b[33;43m\"\u001b[39;49m\u001b[33;43mgpt-3.5-turbo\u001b[39;49m\u001b[33;43m\"\u001b[39;49m\u001b[43m,\u001b[49m\n\u001b[32m     15\u001b[39m \u001b[43m    \u001b[49m\u001b[43mopenai_api_key\u001b[49m\u001b[43m=\u001b[49m\u001b[43mapi_key\u001b[49m\u001b[43m,\u001b[49m\n\u001b[32m     16\u001b[39m \u001b[43m    \u001b[49m\u001b[43mopenai_api_base\u001b[49m\u001b[43m=\u001b[49m\u001b[43mbase_url\u001b[49m\n\u001b[32m     17\u001b[39m \u001b[43m)\u001b[49m\n\u001b[32m     19\u001b[39m response = llm([HumanMessage(content=\u001b[33m\"\u001b[39m\u001b[33mWhat is AI?\u001b[39m\u001b[33m\"\u001b[39m)])\n\u001b[32m     20\u001b[39m \u001b[38;5;28mprint\u001b[39m(response.content)\n",
      "\u001b[36mFile \u001b[39m\u001b[32m~/Desktop/vscode/.venv/lib/python3.13/site-packages/langchain/load/serializable.py:74\u001b[39m, in \u001b[36mSerializable.__init__\u001b[39m\u001b[34m(self, **kwargs)\u001b[39m\n\u001b[32m     73\u001b[39m \u001b[38;5;28;01mdef\u001b[39;00m\u001b[38;5;250m \u001b[39m\u001b[34m__init__\u001b[39m(\u001b[38;5;28mself\u001b[39m, **kwargs: Any) -> \u001b[38;5;28;01mNone\u001b[39;00m:\n\u001b[32m---> \u001b[39m\u001b[32m74\u001b[39m     \u001b[38;5;28;43msuper\u001b[39;49m\u001b[43m(\u001b[49m\u001b[43m)\u001b[49m\u001b[43m.\u001b[49m\u001b[34;43m__init__\u001b[39;49m\u001b[43m(\u001b[49m\u001b[43m*\u001b[49m\u001b[43m*\u001b[49m\u001b[43mkwargs\u001b[49m\u001b[43m)\u001b[49m\n\u001b[32m     75\u001b[39m     \u001b[38;5;28mself\u001b[39m._lc_kwargs = kwargs\n",
      "\u001b[36mFile \u001b[39m\u001b[32m~/Desktop/vscode/.venv/lib/python3.13/site-packages/pydantic/main.py:347\u001b[39m, in \u001b[36mpydantic.main.BaseModel.__init__\u001b[39m\u001b[34m()\u001b[39m\n",
      "\u001b[31mValidationError\u001b[39m: 1 validation error for ChatOpenAI\n__root__\n  Did not find openai_api_key, please add an environment variable `OPENAI_API_KEY` which contains it, or pass  `openai_api_key` as a named parameter. (type=value_error)"
     ]
    }
   ],
   "source": [
    "from langchain.chat_models import ChatOpenAI\n",
    "from langchain.schema import HumanMessage\n",
    "import os\n",
    "from dotenv import load_dotenv\n",
    "\n",
    "# Load environment variables from .env file\n",
    "load_dotenv()\n",
    "\n",
    "# Retrieve API key and base URL from environment variables\n",
    "api_key = os.getenv(\"OPENAI_API_KEY\")\n",
    "base_url = os.getenv(\"OPENAI_API_BASE\")\n",
    "\n",
    "llm = ChatOpenAI(\n",
    "    model_name=\"gpt-3.5-turbo\",\n",
    "    openai_api_key=api_key,\n",
    "    openai_api_base=base_url\n",
    ")\n",
    "\n",
    "response = llm([HumanMessage(content=\"What is AI?\")])\n",
    "print(response.content)\n"
   ]
  },
  {
   "cell_type": "code",
   "execution_count": 8,
   "id": "d89a1464",
   "metadata": {},
   "outputs": [
    {
     "data": {
      "text/plain": [
       "langchain.schema.messages.AIMessage"
      ]
     },
     "execution_count": 8,
     "metadata": {},
     "output_type": "execute_result"
    }
   ],
   "source": [
    "response.__class__"
   ]
  },
  {
   "cell_type": "markdown",
   "id": "a16a4f81",
   "metadata": {},
   "source": [
    "SystemMessage(content=\"You are a chatbot that knows nothing about AI. When you are asked about AI, you must say 'I don\\'t know'\")"
   ]
  },
  {
   "cell_type": "code",
   "execution_count": 12,
   "id": "feceeaf3",
   "metadata": {},
   "outputs": [
    {
     "name": "stdout",
     "output_type": "stream",
     "text": [
      "I don't know\n"
     ]
    }
   ],
   "source": [
    "from langchain.chat_models import ChatOpenAI\n",
    "from langchain.schema import HumanMessage\n",
    "from langchain.schema import SystemMessage\n",
    "\n",
    "\n",
    "llm = ChatOpenAI(\n",
    "    model_name=\"gpt-3.5-turbo\",\n",
    "    openai_api_key=\"sk-HGL4d86c43a35160e401c9220683f5337679672ba1bc2Qh3\",\n",
    "    openai_api_base=\"https://api.gptsapi.net/v1\"\n",
    ")\n",
    "\n",
    "response = llm([SystemMessage(content=\"You are a chatbot that knows nothing about AI. When you are asked about AI, you must say 'I don\\'t know'\"),\n",
    "    HumanMessage(content=\"do you know ai?\")])\n",
    "print(response.content)"
   ]
  },
  {
   "cell_type": "code",
   "execution_count": 13,
   "id": "03f17f9d",
   "metadata": {},
   "outputs": [
    {
     "data": {
      "text/plain": [
       "[SystemMessage(content='You are a professional translator that translates English to Chinese.', additional_kwargs={}),\n",
       " HumanMessage(content='Did you eat in this morning?', additional_kwargs={}, example=False)]"
      ]
     },
     "execution_count": 13,
     "metadata": {},
     "output_type": "execute_result"
    }
   ],
   "source": [
    "from langchain.prompts import (\n",
    "    ChatPromptTemplate,\n",
    "    PromptTemplate,\n",
    "    SystemMessagePromptTemplate,\n",
    "    AIMessagePromptTemplate,\n",
    "    HumanMessagePromptTemplate,\n",
    ")\n",
    "from langchain.schema import (\n",
    "    AIMessage,\n",
    "    HumanMessage,\n",
    "    SystemMessage\n",
    ")\n",
    "\n",
    "system_template=\"You are a professional translator that translates {src_lang} to {dst_lang}.\"\n",
    "system_message_prompt = SystemMessagePromptTemplate.from_template(system_template)\n",
    "\n",
    "human_template=\"{user_input}\"\n",
    "human_message_prompt = HumanMessagePromptTemplate.from_template(human_template)\n",
    "\n",
    "chat_prompt = ChatPromptTemplate.from_messages([system_message_prompt, human_message_prompt])\n",
    "chat_prompt.format_prompt(\n",
    "    src_lang=\"English\",\n",
    "    dst_lang=\"Chinese\", \n",
    "    user_input=\"Did you eat in this morning?\"\n",
    ").to_messages()"
   ]
  }
 ],
 "metadata": {
  "kernelspec": {
   "display_name": ".venv",
   "language": "python",
   "name": "python3"
  },
  "language_info": {
   "codemirror_mode": {
    "name": "ipython",
    "version": 3
   },
   "file_extension": ".py",
   "mimetype": "text/x-python",
   "name": "python",
   "nbconvert_exporter": "python",
   "pygments_lexer": "ipython3",
   "version": "3.13.3"
  }
 },
 "nbformat": 4,
 "nbformat_minor": 5
}
